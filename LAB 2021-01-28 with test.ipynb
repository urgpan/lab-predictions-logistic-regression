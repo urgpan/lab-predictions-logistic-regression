{
 "cells": [
  {
   "cell_type": "code",
   "execution_count": 1,
   "metadata": {},
   "outputs": [
    {
     "name": "stdout",
     "output_type": "stream",
     "text": [
      "········\n"
     ]
    }
   ],
   "source": [
    "import pymysql\n",
    "from sqlalchemy import create_engine\n",
    "import pandas as pd\n",
    "import getpass  # To get the password without showing the input\n",
    "password = getpass.getpass()"
   ]
  },
  {
   "cell_type": "code",
   "execution_count": 2,
   "metadata": {},
   "outputs": [],
   "source": [
    "connection_string = 'mysql+pymysql://root:' + password + '@localhost/sakila'\n",
    "engine = create_engine(connection_string)"
   ]
  },
  {
   "cell_type": "code",
   "execution_count": null,
   "metadata": {},
   "outputs": [],
   "source": []
  },
  {
   "cell_type": "code",
   "execution_count": 3,
   "metadata": {},
   "outputs": [
    {
     "data": {
      "text/html": [
       "<div>\n",
       "<style scoped>\n",
       "    .dataframe tbody tr th:only-of-type {\n",
       "        vertical-align: middle;\n",
       "    }\n",
       "\n",
       "    .dataframe tbody tr th {\n",
       "        vertical-align: top;\n",
       "    }\n",
       "\n",
       "    .dataframe thead th {\n",
       "        text-align: right;\n",
       "    }\n",
       "</style>\n",
       "<table border=\"1\" class=\"dataframe\">\n",
       "  <thead>\n",
       "    <tr style=\"text-align: right;\">\n",
       "      <th></th>\n",
       "      <th>r_month</th>\n",
       "      <th>r_year</th>\n",
       "      <th>rental_duration</th>\n",
       "      <th>rental_rate</th>\n",
       "      <th>length</th>\n",
       "      <th>rating</th>\n",
       "      <th>special_features</th>\n",
       "      <th>category_id</th>\n",
       "      <th>rented_last_month</th>\n",
       "    </tr>\n",
       "  </thead>\n",
       "  <tbody>\n",
       "    <tr>\n",
       "      <th>0</th>\n",
       "      <td>8.0</td>\n",
       "      <td>2005.0</td>\n",
       "      <td>6</td>\n",
       "      <td>0.99</td>\n",
       "      <td>113</td>\n",
       "      <td>PG</td>\n",
       "      <td>Commentaries,Deleted Scenes,Behind the Scenes</td>\n",
       "      <td>1</td>\n",
       "      <td>0</td>\n",
       "    </tr>\n",
       "    <tr>\n",
       "      <th>1</th>\n",
       "      <td>8.0</td>\n",
       "      <td>2005.0</td>\n",
       "      <td>6</td>\n",
       "      <td>0.99</td>\n",
       "      <td>113</td>\n",
       "      <td>PG</td>\n",
       "      <td>Commentaries,Deleted Scenes,Behind the Scenes</td>\n",
       "      <td>1</td>\n",
       "      <td>0</td>\n",
       "    </tr>\n",
       "    <tr>\n",
       "      <th>2</th>\n",
       "      <td>6.0</td>\n",
       "      <td>2005.0</td>\n",
       "      <td>6</td>\n",
       "      <td>0.99</td>\n",
       "      <td>113</td>\n",
       "      <td>PG</td>\n",
       "      <td>Commentaries,Deleted Scenes,Behind the Scenes</td>\n",
       "      <td>1</td>\n",
       "      <td>0</td>\n",
       "    </tr>\n",
       "    <tr>\n",
       "      <th>3</th>\n",
       "      <td>7.0</td>\n",
       "      <td>2005.0</td>\n",
       "      <td>6</td>\n",
       "      <td>0.99</td>\n",
       "      <td>113</td>\n",
       "      <td>PG</td>\n",
       "      <td>Commentaries,Deleted Scenes,Behind the Scenes</td>\n",
       "      <td>1</td>\n",
       "      <td>0</td>\n",
       "    </tr>\n",
       "    <tr>\n",
       "      <th>4</th>\n",
       "      <td>7.0</td>\n",
       "      <td>2005.0</td>\n",
       "      <td>6</td>\n",
       "      <td>0.99</td>\n",
       "      <td>113</td>\n",
       "      <td>PG</td>\n",
       "      <td>Commentaries,Deleted Scenes,Behind the Scenes</td>\n",
       "      <td>1</td>\n",
       "      <td>0</td>\n",
       "    </tr>\n",
       "  </tbody>\n",
       "</table>\n",
       "</div>"
      ],
      "text/plain": [
       "   r_month  r_year  rental_duration  rental_rate  length rating  \\\n",
       "0      8.0  2005.0                6         0.99     113     PG   \n",
       "1      8.0  2005.0                6         0.99     113     PG   \n",
       "2      6.0  2005.0                6         0.99     113     PG   \n",
       "3      7.0  2005.0                6         0.99     113     PG   \n",
       "4      7.0  2005.0                6         0.99     113     PG   \n",
       "\n",
       "                                special_features  category_id  \\\n",
       "0  Commentaries,Deleted Scenes,Behind the Scenes            1   \n",
       "1  Commentaries,Deleted Scenes,Behind the Scenes            1   \n",
       "2  Commentaries,Deleted Scenes,Behind the Scenes            1   \n",
       "3  Commentaries,Deleted Scenes,Behind the Scenes            1   \n",
       "4  Commentaries,Deleted Scenes,Behind the Scenes            1   \n",
       "\n",
       "   rented_last_month  \n",
       "0                  0  \n",
       "1                  0  \n",
       "2                  0  \n",
       "3                  0  \n",
       "4                  0  "
      ]
     },
     "execution_count": 3,
     "metadata": {},
     "output_type": "execute_result"
    }
   ],
   "source": [
    "test = pd.read_csv('LAB4.csv')\n",
    "test.head()"
   ]
  },
  {
   "cell_type": "code",
   "execution_count": 4,
   "metadata": {},
   "outputs": [
    {
     "data": {
      "text/plain": [
       "(16046, 9)"
      ]
     },
     "execution_count": 4,
     "metadata": {},
     "output_type": "execute_result"
    }
   ],
   "source": [
    "test.shape"
   ]
  },
  {
   "cell_type": "code",
   "execution_count": 5,
   "metadata": {},
   "outputs": [
    {
     "data": {
      "text/plain": [
       "r_month              float64\n",
       "r_year               float64\n",
       "rental_duration        int64\n",
       "rental_rate          float64\n",
       "length                 int64\n",
       "rating                object\n",
       "special_features      object\n",
       "category_id            int64\n",
       "rented_last_month      int64\n",
       "dtype: object"
      ]
     },
     "execution_count": 5,
     "metadata": {},
     "output_type": "execute_result"
    }
   ],
   "source": [
    "test.dtypes"
   ]
  },
  {
   "cell_type": "code",
   "execution_count": 6,
   "metadata": {},
   "outputs": [
    {
     "data": {
      "text/plain": [
       "PG-13    3585\n",
       "NC-17    3293\n",
       "PG       3214\n",
       "R        3181\n",
       "G        2773\n",
       "Name: rating, dtype: int64"
      ]
     },
     "execution_count": 6,
     "metadata": {},
     "output_type": "execute_result"
    }
   ],
   "source": [
    "test['rating'].value_counts()"
   ]
  },
  {
   "cell_type": "code",
   "execution_count": 7,
   "metadata": {},
   "outputs": [],
   "source": [
    "def rating_ordi(x):\n",
    "    if x== \"G\":\n",
    "        x= 1\n",
    "    elif x== \"PG\":\n",
    "        x=2\n",
    "    elif x== \"PG-13\":\n",
    "        x=3\n",
    "    elif x== \"R\":\n",
    "        x=4\n",
    "    else:\n",
    "        x=5\n",
    "    return x"
   ]
  },
  {
   "cell_type": "code",
   "execution_count": 8,
   "metadata": {},
   "outputs": [],
   "source": [
    "test[\"rating\"]=list(map(rating_ordi,test[\"rating\"]))"
   ]
  },
  {
   "cell_type": "code",
   "execution_count": 9,
   "metadata": {},
   "outputs": [
    {
     "data": {
      "text/plain": [
       "Trailers,Commentaries,Behind the Scenes                   1320\n",
       "Trailers                                                  1151\n",
       "Trailers,Commentaries                                     1140\n",
       "Trailers,Behind the Scenes                                1137\n",
       "Behind the Scenes                                         1114\n",
       "Commentaries,Deleted Scenes,Behind the Scenes             1112\n",
       "Commentaries                                              1101\n",
       "Commentaries,Behind the Scenes                            1093\n",
       "Trailers,Deleted Scenes                                   1065\n",
       "Deleted Scenes,Behind the Scenes                          1051\n",
       "Deleted Scenes                                            1037\n",
       "Commentaries,Deleted Scenes                               1020\n",
       "Trailers,Commentaries,Deleted Scenes,Behind the Scenes    1003\n",
       "Trailers,Commentaries,Deleted Scenes                       922\n",
       "Trailers,Deleted Scenes,Behind the Scenes                  780\n",
       "Name: special_features, dtype: int64"
      ]
     },
     "execution_count": 9,
     "metadata": {},
     "output_type": "execute_result"
    }
   ],
   "source": [
    "test['special_features'].value_counts()"
   ]
  },
  {
   "cell_type": "code",
   "execution_count": 10,
   "metadata": {},
   "outputs": [],
   "source": [
    "#juan=splitt"
   ]
  },
  {
   "cell_type": "code",
   "execution_count": 11,
   "metadata": {},
   "outputs": [],
   "source": [
    "def count_special_features(data_list):\n",
    "    lx = lambda x: x.split(sep=',') #split by comas\n",
    "    ly = lambda x: len(x) #lenght of the array\n",
    "    #apply funtions\n",
    "    data_list = data_list.apply(lx)\n",
    "    data_list = data_list.apply(ly)\n",
    "    return data_list"
   ]
  },
  {
   "cell_type": "code",
   "execution_count": 12,
   "metadata": {},
   "outputs": [],
   "source": [
    "test['special_features'] = count_special_features(test['special_features'])"
   ]
  },
  {
   "cell_type": "code",
   "execution_count": 13,
   "metadata": {},
   "outputs": [
    {
     "data": {
      "text/html": [
       "<div>\n",
       "<style scoped>\n",
       "    .dataframe tbody tr th:only-of-type {\n",
       "        vertical-align: middle;\n",
       "    }\n",
       "\n",
       "    .dataframe tbody tr th {\n",
       "        vertical-align: top;\n",
       "    }\n",
       "\n",
       "    .dataframe thead th {\n",
       "        text-align: right;\n",
       "    }\n",
       "</style>\n",
       "<table border=\"1\" class=\"dataframe\">\n",
       "  <thead>\n",
       "    <tr style=\"text-align: right;\">\n",
       "      <th></th>\n",
       "      <th>r_month</th>\n",
       "      <th>r_year</th>\n",
       "      <th>rental_duration</th>\n",
       "      <th>rental_rate</th>\n",
       "      <th>length</th>\n",
       "      <th>rating</th>\n",
       "      <th>special_features</th>\n",
       "      <th>category_id</th>\n",
       "      <th>rented_last_month</th>\n",
       "    </tr>\n",
       "  </thead>\n",
       "  <tbody>\n",
       "    <tr>\n",
       "      <th>0</th>\n",
       "      <td>8.0</td>\n",
       "      <td>2005.0</td>\n",
       "      <td>6</td>\n",
       "      <td>0.99</td>\n",
       "      <td>113</td>\n",
       "      <td>2</td>\n",
       "      <td>3</td>\n",
       "      <td>1</td>\n",
       "      <td>0</td>\n",
       "    </tr>\n",
       "    <tr>\n",
       "      <th>1</th>\n",
       "      <td>8.0</td>\n",
       "      <td>2005.0</td>\n",
       "      <td>6</td>\n",
       "      <td>0.99</td>\n",
       "      <td>113</td>\n",
       "      <td>2</td>\n",
       "      <td>3</td>\n",
       "      <td>1</td>\n",
       "      <td>0</td>\n",
       "    </tr>\n",
       "    <tr>\n",
       "      <th>2</th>\n",
       "      <td>6.0</td>\n",
       "      <td>2005.0</td>\n",
       "      <td>6</td>\n",
       "      <td>0.99</td>\n",
       "      <td>113</td>\n",
       "      <td>2</td>\n",
       "      <td>3</td>\n",
       "      <td>1</td>\n",
       "      <td>0</td>\n",
       "    </tr>\n",
       "    <tr>\n",
       "      <th>3</th>\n",
       "      <td>7.0</td>\n",
       "      <td>2005.0</td>\n",
       "      <td>6</td>\n",
       "      <td>0.99</td>\n",
       "      <td>113</td>\n",
       "      <td>2</td>\n",
       "      <td>3</td>\n",
       "      <td>1</td>\n",
       "      <td>0</td>\n",
       "    </tr>\n",
       "    <tr>\n",
       "      <th>4</th>\n",
       "      <td>7.0</td>\n",
       "      <td>2005.0</td>\n",
       "      <td>6</td>\n",
       "      <td>0.99</td>\n",
       "      <td>113</td>\n",
       "      <td>2</td>\n",
       "      <td>3</td>\n",
       "      <td>1</td>\n",
       "      <td>0</td>\n",
       "    </tr>\n",
       "  </tbody>\n",
       "</table>\n",
       "</div>"
      ],
      "text/plain": [
       "   r_month  r_year  rental_duration  rental_rate  length  rating  \\\n",
       "0      8.0  2005.0                6         0.99     113       2   \n",
       "1      8.0  2005.0                6         0.99     113       2   \n",
       "2      6.0  2005.0                6         0.99     113       2   \n",
       "3      7.0  2005.0                6         0.99     113       2   \n",
       "4      7.0  2005.0                6         0.99     113       2   \n",
       "\n",
       "   special_features  category_id  rented_last_month  \n",
       "0                 3            1                  0  \n",
       "1                 3            1                  0  \n",
       "2                 3            1                  0  \n",
       "3                 3            1                  0  \n",
       "4                 3            1                  0  "
      ]
     },
     "execution_count": 13,
     "metadata": {},
     "output_type": "execute_result"
    }
   ],
   "source": [
    "test.head()"
   ]
  },
  {
   "cell_type": "code",
   "execution_count": 14,
   "metadata": {},
   "outputs": [
    {
     "data": {
      "text/plain": [
       "Index(['r_month', 'r_year', 'rental_duration', 'rental_rate', 'length',\n",
       "       'rating', 'special_features', 'category_id', 'rented_last_month'],\n",
       "      dtype='object')"
      ]
     },
     "execution_count": 14,
     "metadata": {},
     "output_type": "execute_result"
    }
   ],
   "source": [
    "test.columns"
   ]
  },
  {
   "cell_type": "code",
   "execution_count": null,
   "metadata": {},
   "outputs": [],
   "source": []
  },
  {
   "cell_type": "code",
   "execution_count": 15,
   "metadata": {},
   "outputs": [],
   "source": [
    "import pandas as pd\n",
    "import numpy as np\n",
    "import warnings\n",
    "warnings.filterwarnings('ignore')\n",
    "import matplotlib.pyplot as plt\n",
    "import seaborn as sns\n",
    "from sklearn import model_selection\n",
    "from sklearn.linear_model import LinearRegression\n",
    "import pickle\n",
    "from sklearn.preprocessing import StandardScaler\n",
    "from sklearn.preprocessing import MinMaxScaler\n",
    "from sklearn.preprocessing import Normalizer"
   ]
  },
  {
   "cell_type": "code",
   "execution_count": 16,
   "metadata": {},
   "outputs": [],
   "source": [
    "import matplotlib.pyplot as plt\n",
    "import seaborn as sns\n",
    "%matplotlib inline"
   ]
  },
  {
   "cell_type": "code",
   "execution_count": 17,
   "metadata": {},
   "outputs": [
    {
     "data": {
      "image/png": "[encoded data removed]",
      "text/plain": [
       "<Figure size 1440x1152 with 2 Axes>"
      ]
     },
     "metadata": {
      "needs_background": "light"
     },
     "output_type": "display_data"
    }
   ],
   "source": [
    "corr_matrix=test.corr(method='pearson')  # default\n",
    "fig, ax = plt.subplots(figsize=(20, 16))\n",
    "ax = sns.heatmap(corr_matrix, annot=True)\n",
    "plt.show()"
   ]
  },
  {
   "cell_type": "code",
   "execution_count": 18,
   "metadata": {},
   "outputs": [
    {
     "data": {
      "text/plain": [
       "r_month              1\n",
       "r_year               1\n",
       "rental_duration      0\n",
       "rental_rate          0\n",
       "length               0\n",
       "rating               0\n",
       "special_features     0\n",
       "category_id          0\n",
       "rented_last_month    0\n",
       "dtype: int64"
      ]
     },
     "execution_count": 18,
     "metadata": {},
     "output_type": "execute_result"
    }
   ],
   "source": [
    "test.isna().sum()"
   ]
  },
  {
   "cell_type": "code",
   "execution_count": 19,
   "metadata": {},
   "outputs": [],
   "source": [
    "test = test[test['r_month'].isna() == False]"
   ]
  },
  {
   "cell_type": "code",
   "execution_count": 20,
   "metadata": {},
   "outputs": [],
   "source": [
    "test = test[test['r_year'].isna() == False]"
   ]
  },
  {
   "cell_type": "code",
   "execution_count": 21,
   "metadata": {},
   "outputs": [],
   "source": [
    "def scaling(df,target,scaler):\n",
    "    from sklearn.preprocessing import StandardScaler\n",
    "    from sklearn.preprocessing import MinMaxScaler\n",
    "    from sklearn.preprocessing import Normalizer\n",
    "    #x-y-split\n",
    "    Y=df[target]\n",
    "    X=df.drop([target],axis=1)\n",
    "    \n",
    "    #chosing scaler\n",
    "    #StandardScaler\n",
    "    if scaler==\"StandardScaler\":\n",
    "        scaler_x = StandardScaler().fit(X)\n",
    "        X_scaled = pd.DataFrame(scaler_x.transform(X),columns=X.columns)\n",
    "        \n",
    "        return X_scaled,Y\n",
    "    #MinMaxScaler()\n",
    "    elif scaler==\"MinMax\":\n",
    "        X_scaled = MinMaxScaler().fit_transform(X.values)\n",
    "        X_scaled = pd.DataFrame(X_scaled,columns=X.columns)\n",
    "        \n",
    "        return X_scaled,Y\n",
    "    #Normalizer\n",
    "    elif scaler==\"Normalizer\":\n",
    "        transformer = Normalizer().fit(X)\n",
    "        X_scaled = pd.DataFrame(transformer.transform(X),columns=X.columns)\n",
    "        \n",
    "        return X_scaled,Y"
   ]
  },
  {
   "cell_type": "code",
   "execution_count": 32,
   "metadata": {},
   "outputs": [],
   "source": [
    "X_scaled,Y=scaling(test,\"rented_last_month\",\"MinMax\")"
   ]
  },
  {
   "cell_type": "code",
   "execution_count": 33,
   "metadata": {},
   "outputs": [
    {
     "name": "stdout",
     "output_type": "stream",
     "text": [
      "r_month\n"
     ]
    },
    {
     "data": {
      "image/png": "[encoded data removed]",
      "text/plain": [
       "<Figure size 360x360 with 1 Axes>"
      ]
     },
     "metadata": {
      "needs_background": "light"
     },
     "output_type": "display_data"
    },
    {
     "name": "stdout",
     "output_type": "stream",
     "text": [
      "r_year\n"
     ]
    },
    {
     "data": {
      "image/png": "[encoded data removed]",
      "text/plain": [
       "<Figure size 360x360 with 1 Axes>"
      ]
     },
     "metadata": {
      "needs_background": "light"
     },
     "output_type": "display_data"
    },
    {
     "name": "stdout",
     "output_type": "stream",
     "text": [
      "rental_duration\n"
     ]
    },
    {
     "data": {
      "image/png": "[encoded data removed]",
      "text/plain": [
       "<Figure size 360x360 with 1 Axes>"
      ]
     },
     "metadata": {
      "needs_background": "light"
     },
     "output_type": "display_data"
    },
    {
     "name": "stdout",
     "output_type": "stream",
     "text": [
      "rental_rate\n"
     ]
    },
    {
     "data": {
      "image/png": "[encoded data removed]",
      "text/plain": [
       "<Figure size 360x360 with 1 Axes>"
      ]
     },
     "metadata": {
      "needs_background": "light"
     },
     "output_type": "display_data"
    },
    {
     "name": "stdout",
     "output_type": "stream",
     "text": [
      "length\n"
     ]
    },
    {
     "data": {
      "image/png": "[encoded data removed]",
      "text/plain": [
       "<Figure size 360x360 with 1 Axes>"
      ]
     },
     "metadata": {
      "needs_background": "light"
     },
     "output_type": "display_data"
    },
    {
     "name": "stdout",
     "output_type": "stream",
     "text": [
      "rating\n"
     ]
    },
    {
     "data": {
      "image/png": "[encoded data removed]",
      "text/plain": [
       "<Figure size 360x360 with 1 Axes>"
      ]
     },
     "metadata": {
      "needs_background": "light"
     },
     "output_type": "display_data"
    },
    {
     "name": "stdout",
     "output_type": "stream",
     "text": [
      "special_features\n"
     ]
    },
    {
     "data": {
      "image/png": "[encoded data removed]",
      "text/plain": [
       "<Figure size 360x360 with 1 Axes>"
      ]
     },
     "metadata": {
      "needs_background": "light"
     },
     "output_type": "display_data"
    },
    {
     "name": "stdout",
     "output_type": "stream",
     "text": [
      "category_id\n"
     ]
    },
    {
     "data": {
      "image/png": "[encoded data removed]",
      "text/plain": [
       "<Figure size 360x360 with 1 Axes>"
      ]
     },
     "metadata": {
      "needs_background": "light"
     },
     "output_type": "display_data"
    }
   ],
   "source": [
    "for col in list(X_scaled.columns):\n",
    "    print(col)\n",
    "    sns.displot(X_scaled[col])\n",
    "    plt.show()"
   ]
  },
  {
   "cell_type": "code",
   "execution_count": 34,
   "metadata": {},
   "outputs": [],
   "source": [
    "from sklearn.model_selection import train_test_split\n",
    "X_train, X_test, y_train, y_test = train_test_split(X_scaled, Y, test_size=0.2, random_state=100)"
   ]
  },
  {
   "cell_type": "code",
   "execution_count": 35,
   "metadata": {},
   "outputs": [],
   "source": [
    "#Train the model"
   ]
  },
  {
   "cell_type": "code",
   "execution_count": null,
   "metadata": {},
   "outputs": [],
   "source": []
  },
  {
   "cell_type": "code",
   "execution_count": 36,
   "metadata": {},
   "outputs": [],
   "source": [
    "from sklearn.linear_model import LogisticRegression\n",
    "classification = LogisticRegression(random_state=0, solver='lbfgs',\n",
    "                  multi_class='multinomial').fit(X_train, y_train)"
   ]
  },
  {
   "cell_type": "code",
   "execution_count": 37,
   "metadata": {},
   "outputs": [
    {
     "name": "stdout",
     "output_type": "stream",
     "text": [
      "The accuracy of the model in the TEST set is:  1.0\n"
     ]
    }
   ],
   "source": [
    "print(\"The accuracy of the model in the TEST set is: \", round(classification.score(X_test, y_test),2))"
   ]
  },
  {
   "cell_type": "code",
   "execution_count": 38,
   "metadata": {},
   "outputs": [
    {
     "data": {
      "text/plain": [
       "1.0"
      ]
     },
     "execution_count": 38,
     "metadata": {},
     "output_type": "execute_result"
    }
   ],
   "source": [
    "predictions = classification.predict(X_test)\n",
    "classification.score(X_test, y_test)"
   ]
  },
  {
   "cell_type": "code",
   "execution_count": 39,
   "metadata": {},
   "outputs": [
    {
     "data": {
      "text/plain": [
       "0    3180\n",
       "1      29\n",
       "Name: rented_last_month, dtype: int64"
      ]
     },
     "execution_count": 39,
     "metadata": {},
     "output_type": "execute_result"
    }
   ],
   "source": [
    "y_test.value_counts() #huge imbalance"
   ]
  },
  {
   "cell_type": "code",
   "execution_count": 40,
   "metadata": {},
   "outputs": [
    {
     "data": {
      "text/plain": [
       "array([[3180,    0],\n",
       "       [   0,   29]])"
      ]
     },
     "execution_count": 40,
     "metadata": {},
     "output_type": "execute_result"
    }
   ],
   "source": [
    "from sklearn.metrics import confusion_matrix, plot_confusion_matrix\n",
    "confusion_matrix(y_test, predictions)\n"
   ]
  },
  {
   "cell_type": "code",
   "execution_count": 41,
   "metadata": {},
   "outputs": [
    {
     "data": {
      "text/plain": [
       "<sklearn.metrics._plot.confusion_matrix.ConfusionMatrixDisplay at 0x7f84c70062e0>"
      ]
     },
     "execution_count": 41,
     "metadata": {},
     "output_type": "execute_result"
    },
    {
     "data": {
      "image/png": "[encoded data removed]",
      "text/plain": [
       "<Figure size 432x288 with 2 Axes>"
      ]
     },
     "metadata": {
      "needs_background": "light"
     },
     "output_type": "display_data"
    }
   ],
   "source": [
    "plot_confusion_matrix(classification, X_test, y_test)"
   ]
  },
  {
   "cell_type": "code",
   "execution_count": null,
   "metadata": {},
   "outputs": [],
   "source": []
  }
 ],
 "metadata": {
  "kernelspec": {
   "display_name": "Python 3",
   "language": "python",
   "name": "python3"
  },
  "language_info": {
   "codemirror_mode": {
    "name": "ipython",
    "version": 3
   },
   "file_extension": ".py",
   "mimetype": "text/x-python",
   "name": "python",
   "nbconvert_exporter": "python",
   "pygments_lexer": "ipython3",
   "version": "3.8.5"
  }
 },
 "nbformat": 4,
 "nbformat_minor": 4
}
